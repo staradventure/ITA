{
 "cells": [
  {
   "cell_type": "code",
   "execution_count": 1,
   "id": "bf02246fdbf9d7a4",
   "metadata": {
    "ExecuteTime": {
     "end_time": "2023-11-29T07:25:41.241465400Z",
     "start_time": "2023-11-29T07:25:41.164642800Z"
    },
    "collapsed": false,
    "jupyter": {
     "outputs_hidden": false
    }
   },
   "outputs": [],
   "source": [
    "import numpy as np\n",
    "import math"
   ]
  },
  {
   "cell_type": "code",
   "execution_count": 22,
   "id": "15c3edee959448ff",
   "metadata": {
    "ExecuteTime": {
     "end_time": "2023-11-29T07:48:13.653511600Z",
     "start_time": "2023-11-29T07:48:13.646049700Z"
    },
    "collapsed": false,
    "jupyter": {
     "outputs_hidden": false
    }
   },
   "outputs": [],
   "source": [
    "def SQUARE_MATRIX_MULTIPLY_RECURSIVE(A,B,a,b):\n",
    "    n= len(a[0])\n",
    "    C=np.zeros((n,n))\n",
    "    if n==1:\n",
    "        C[1-1][1-1]=A[a[0][0]-1][a[1][0]-1]*B[b[0][0]-1][b[1][0]-1]\n",
    "    else:\n",
    "        s11=[[i for i in range(1,math.ceil(n/2)+1)],[i for i in range(1,math.ceil(n/2)+1)]]\n",
    "        s12=[[i for i in range(1,math.ceil(n/2)+1)],[i for i in range(math.floor(n/2)+1,n+1)]]\n",
    "        s21=[[i for i in range(math.floor(n/2)+1,n+1)],[i for i in range(1,math.ceil(n/2)+1)]]\n",
    "        s22=[[i for i in range(math.floor(n/2)+1,n+1)],[i for i in range(math.floor(n/2)+1,n+1)]]\n",
    "        C[math.floor(n/2)-1][math.floor(n/2)-1]=((SQUARE_MATRIX_MULTIPLY_RECURSIVE(A,B,s11,s11))[0]+(SQUARE_MATRIX_MULTIPLY_RECURSIVE(A,B,s12,s21))[0])[0]\n",
    "        C[math.floor(n/2)-1][n-1]=((SQUARE_MATRIX_MULTIPLY_RECURSIVE(A,B,s11,s12))[0]+(SQUARE_MATRIX_MULTIPLY_RECURSIVE(A,B,s12,s22))[0])[0]\n",
    "        C[n-1][math.floor(n/2)-1]=((SQUARE_MATRIX_MULTIPLY_RECURSIVE(A,B,s21,s11))[0]+(SQUARE_MATRIX_MULTIPLY_RECURSIVE(A,B,s22,s21))[0])[0]\n",
    "        C[n-1][n-1]=((SQUARE_MATRIX_MULTIPLY_RECURSIVE(A,B,s21,s12))[0]+(SQUARE_MATRIX_MULTIPLY_RECURSIVE(A,B,s22,s22))[0])[0]\n",
    "    return C\n",
    "        "
   ]
  },
  {
   "cell_type": "code",
   "execution_count": 20,
   "id": "initial_id",
   "metadata": {
    "ExecuteTime": {
     "end_time": "2023-11-29T07:46:09.651936300Z",
     "start_time": "2023-11-29T07:46:09.646965600Z"
    },
    "collapsed": false,
    "jupyter": {
     "outputs_hidden": false
    }
   },
   "outputs": [],
   "source": [
    "def return_whole(n):\n",
    "    return [[i for i in range(1,n+1)],[i for i in range(1,n+1)]]"
   ]
  },
  {
   "cell_type": "code",
   "execution_count": 23,
   "id": "2f4048433d8c1939",
   "metadata": {
    "ExecuteTime": {
     "end_time": "2023-11-29T07:48:15.591363300Z",
     "start_time": "2023-11-29T07:48:15.586722900Z"
    },
    "collapsed": false,
    "jupyter": {
     "outputs_hidden": false
    }
   },
   "outputs": [
    {
     "name": "stdout",
     "output_type": "stream",
     "text": [
      "[[ 5. 11.]\n",
      " [11. 25.]]\n"
     ]
    }
   ],
   "source": [
    "s_whole=return_whole(2)\n",
    "A=np.array([[1,2],[3,4]])\n",
    "B=np.array([[1,3],[2,4]])\n",
    "C=SQUARE_MATRIX_MULTIPLY_RECURSIVE(A,B,s_whole,s_whole)\n",
    "print(C)"
   ]
  },
  {
   "cell_type": "markdown",
   "id": "a4772af3-2927-4141-bf80-58afe65476bb",
   "metadata": {
    "jupyter": {
     "outputs_hidden": false
    }
   },
   "source": [
    "- 主函数所在的模块：\n",
    "    - 第5、11、12、13、14行：\n",
    "        - 伪代码的下标和数组内部的下标不一致，需要减1。\n",
    "    - 第11到14行：\n",
    "        - 那么多()[0]是因为numpy有个过时警告：不能把多维数组结果直接作为标量输出出来。"
   ]
  },
  {
   "cell_type": "code",
   "execution_count": null,
   "id": "fe56c05b-c470-438a-a39c-91d1045f0e1e",
   "metadata": {},
   "outputs": [],
   "source": []
  }
 ],
 "metadata": {
  "kernelspec": {
   "display_name": "Python 3 (ipykernel)",
   "language": "python",
   "name": "python3"
  },
  "language_info": {
   "codemirror_mode": {
    "name": "ipython",
    "version": 3
   },
   "file_extension": ".py",
   "mimetype": "text/x-python",
   "name": "python",
   "nbconvert_exporter": "python",
   "pygments_lexer": "ipython3",
   "version": "3.11.5"
  }
 },
 "nbformat": 4,
 "nbformat_minor": 5
}
