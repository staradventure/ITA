{
 "cells": [
  {
   "cell_type": "code",
   "execution_count": 1,
   "id": "initial_id",
   "metadata": {
    "ExecuteTime": {
     "end_time": "2023-12-01T05:09:55.904658300Z",
     "start_time": "2023-12-01T05:09:55.844321400Z"
    },
    "tags": []
   },
   "outputs": [],
   "source": [
    "import numpy as np\n",
    "import math"
   ]
  },
  {
   "cell_type": "code",
   "execution_count": 2,
   "id": "ad7324f75aed0b8c",
   "metadata": {
    "ExecuteTime": {
     "end_time": "2023-12-01T05:09:57.963668900Z",
     "start_time": "2023-12-01T05:09:57.958612800Z"
    },
    "collapsed": false,
    "jupyter": {
     "outputs_hidden": false
    }
   },
   "outputs": [],
   "source": [
    "def add(S,front,back):\n",
    "    n=len(front[0])\n",
    "    result=np.zeros((n,n))\n",
    "    for i in range(n):\n",
    "        for j in range(n):\n",
    "            result[i][j]=S[front[0][i]-1][front[1][j]-1]+S[back[0][i]-1][back[1][j]-1]\n",
    "    return result"
   ]
  },
  {
   "cell_type": "code",
   "execution_count": 3,
   "id": "ef7f985328e70d9c",
   "metadata": {
    "ExecuteTime": {
     "end_time": "2023-12-01T05:10:00.000415600Z",
     "start_time": "2023-12-01T05:09:59.996198200Z"
    },
    "collapsed": false,
    "jupyter": {
     "outputs_hidden": false
    }
   },
   "outputs": [],
   "source": [
    "def sub(S,front,back):\n",
    "    n=len(front[0])\n",
    "    result=np.zeros((n,n))\n",
    "    for i in range(n):\n",
    "        for j in range(n):\n",
    "            result[i][j]=S[front[0][i]-1][front[1][j]-1]-S[back[0][i]-1][back[1][j]-1]\n",
    "    return result"
   ]
  },
  {
   "cell_type": "code",
   "execution_count": 8,
   "id": "559cdf945acbf9fd",
   "metadata": {
    "ExecuteTime": {
     "end_time": "2023-12-01T05:11:14.952222100Z",
     "start_time": "2023-12-01T05:11:14.942500700Z"
    },
    "collapsed": false,
    "jupyter": {
     "outputs_hidden": false
    }
   },
   "outputs": [],
   "source": [
    "def return_whole(n):\n",
    "    return [[i for i in range(1,n+1)],[i for i in range(1,n+1)]]"
   ]
  },
  {
   "cell_type": "code",
   "execution_count": 9,
   "id": "30ef5419a777e511",
   "metadata": {
    "ExecuteTime": {
     "end_time": "2023-12-01T05:11:16.231434600Z",
     "start_time": "2023-12-01T05:11:16.206987700Z"
    },
    "collapsed": false,
    "jupyter": {
     "outputs_hidden": false
    }
   },
   "outputs": [],
   "source": [
    "def return_len(S):\n",
    "    return return_whole(np.shape(S)[0])"
   ]
  },
  {
   "cell_type": "code",
   "execution_count": 13,
   "id": "893d5f976294610b",
   "metadata": {
    "ExecuteTime": {
     "end_time": "2023-12-01T05:13:34.918585400Z",
     "start_time": "2023-12-01T05:13:34.913853600Z"
    },
    "collapsed": false,
    "jupyter": {
     "outputs_hidden": false
    }
   },
   "outputs": [],
   "source": [
    "def Strassen(A,B,a,b):\n",
    "    n= len(a[0])\n",
    "    C=np.zeros((n,n))\n",
    "    if n==1:\n",
    "        C[1-1][1-1]=A[a[0][0]-1][a[1][0]-1]*B[b[0][0]-1][b[1][0]-1]\n",
    "    else:\n",
    "        s11=[[i for i in range(1,math.ceil(n/2)+1)],[i for i in range(1,math.ceil(n/2)+1)]]\n",
    "        s12=[[i for i in range(1,math.ceil(n/2)+1)],[i for i in range(math.floor(n/2)+1,n+1)]]\n",
    "        s21=[[i for i in range(math.floor(n/2)+1,n+1)],[i for i in range(1,math.ceil(n/2)+1)]]\n",
    "        s22=[[i for i in range(math.floor(n/2)+1,n+1)],[i for i in range(math.floor(n/2)+1,n+1)]]\n",
    "        S1=sub(B,s12,s22)\n",
    "        S2=add(A,s11,s12)\n",
    "        S3=add(A,s21,s22)\n",
    "        S4=sub(B,s21,s11)\n",
    "        S5=add(A,s11,s22)\n",
    "        S6=add(B,s11,s22)\n",
    "        S7=sub(A,s12,s22)\n",
    "        S8=add(B,s21,s22)\n",
    "        S9=sub(A,s11,s21)\n",
    "        S10=add(B,s11,s12)\n",
    "        P1=Strassen(A,S1,s11,return_len(S1))\n",
    "        P2=Strassen(S2,B,return_len(S2),s22)\n",
    "        P3=Strassen(S3,B,return_len(S3),s11)\n",
    "        P4=Strassen(A,S4,s22,return_len(S4))\n",
    "        P5=Strassen(S5,S6,return_len(S5),return_len(S6))\n",
    "        P6=Strassen(S7,S8,return_len(S7),return_len(S8))\n",
    "        P7=Strassen(S9,S10,return_len(S9),return_len(S10))\n",
    "        C[math.floor(n/2)-1][math.floor(n/2)-1]=(P5[0]+P4[0]-P2[0]+P6[0])[0]\n",
    "        C[math.floor(n/2)-1][n-1]=(P1[0]+P2[0])[0]\n",
    "        C[n-1][math.floor(n/2)-1]=(P3[0]+P4[0])[0]\n",
    "        C[n-1][n-1]=(P5[0]+P1[0]-P3[0]-P7[0])[0]\n",
    "    return C"
   ]
  },
  {
   "cell_type": "code",
   "execution_count": 14,
   "id": "8f07aed699b576a0",
   "metadata": {
    "ExecuteTime": {
     "end_time": "2023-12-01T05:13:36.671020300Z",
     "start_time": "2023-12-01T05:13:36.665996800Z"
    },
    "collapsed": false,
    "jupyter": {
     "outputs_hidden": false
    }
   },
   "outputs": [
    {
     "name": "stdout",
     "output_type": "stream",
     "text": [
      "[[18. 14.]\n",
      " [62. 66.]]\n"
     ]
    }
   ],
   "source": [
    "s_whole=return_whole(2)\n",
    "A=np.array([[1,3],[7,5]])\n",
    "B=np.array([[6,8],[4,2]])\n",
    "C=Strassen(A,B,s_whole,s_whole)\n",
    "print(C)"
   ]
  },
  {
   "cell_type": "code",
   "execution_count": 12,
   "id": "62989399421a6c8",
   "metadata": {
    "ExecuteTime": {
     "end_time": "2023-12-01T05:11:24.791574300Z",
     "start_time": "2023-12-01T05:11:24.782744700Z"
    },
    "collapsed": false,
    "jupyter": {
     "outputs_hidden": false
    }
   },
   "outputs": [
    {
     "name": "stdout",
     "output_type": "stream",
     "text": [
      "[[18 14]\n",
      " [62 66]]\n"
     ]
    }
   ],
   "source": [
    "A=np.array([[1,3],[7,5]])\n",
    "B=np.array([[6,8],[4,2]])\n",
    "C=A@B\n",
    "print(C)"
   ]
  },
  {
   "cell_type": "markdown",
   "id": "2aa435e3e1e2ae73",
   "metadata": {},
   "source": [
    "- 主函数所在的模块：\n",
    "    - 第5、28、29、30、31行：\n",
    "        - 伪代码的下标和数组内部的下标不一致，需要减1。\n",
    "    - 第28到31行：\n",
    "        - 那么多()[0]是因为numpy有个过时警告：不能把多维数组结果直接作为标量输出出来。"
   ]
  },
  {
   "cell_type": "code",
   "execution_count": null,
   "id": "37bcd8ec7825fb84",
   "metadata": {
    "collapsed": false,
    "jupyter": {
     "outputs_hidden": false
    }
   },
   "outputs": [],
   "source": []
  }
 ],
 "metadata": {
  "kernelspec": {
   "display_name": "Python 3 (ipykernel)",
   "language": "python",
   "name": "python3"
  },
  "language_info": {
   "codemirror_mode": {
    "name": "ipython",
    "version": 3
   },
   "file_extension": ".py",
   "mimetype": "text/x-python",
   "name": "python",
   "nbconvert_exporter": "python",
   "pygments_lexer": "ipython3",
   "version": "3.11.5"
  }
 },
 "nbformat": 4,
 "nbformat_minor": 5
}
