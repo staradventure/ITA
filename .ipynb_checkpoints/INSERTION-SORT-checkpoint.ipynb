{
 "cells": [
  {
   "cell_type": "code",
   "execution_count": 12,
   "id": "7930c110-af6d-420d-a6e1-638012427c31",
   "metadata": {},
   "outputs": [],
   "source": [
    "def INSERTION_SORT(A):\n",
    "    for j in range(1,len(A)):\n",
    "        key=A[j]\n",
    "        #Insert A[j] into the sorted sequence A[1..j-1].\n",
    "        i=j-1\n",
    "        while i>=0 and A[i]>key:\n",
    "            A[i+1]=A[i]\n",
    "            i-=1\n",
    "        A[i+1]=key"
   ]
  },
  {
   "cell_type": "code",
   "execution_count": 13,
   "id": "fdbc755f-7b6a-41d2-9fc7-2fb530921846",
   "metadata": {},
   "outputs": [
    {
     "name": "stdout",
     "output_type": "stream",
     "text": [
      "[1, 2, 3, 4, 5, 6]\n"
     ]
    }
   ],
   "source": [
    "A=[5,2,4,6,1,3]\n",
    "INSERTION_SORT(A)\n",
    "print(A)"
   ]
  },
  {
   "cell_type": "markdown",
   "id": "65f0f30e-0a88-403b-9882-1498ee4d36e4",
   "metadata": {},
   "source": [
    "- 函数域和源代码不一样之处：\n",
    "    - 由于列表下标从0开始，所以：\n",
    "        - 第2行range函数起始值为1；\n",
    "        - 第6行i>0改为i>=0。"
   ]
  },
  {
   "cell_type": "code",
   "execution_count": null,
   "id": "63556f9b-176e-41a4-9a34-d03ea7b411c4",
   "metadata": {},
   "outputs": [],
   "source": []
  }
 ],
 "metadata": {
  "kernelspec": {
   "display_name": "Python 3 (ipykernel)",
   "language": "python",
   "name": "python3"
  },
  "language_info": {
   "codemirror_mode": {
    "name": "ipython",
    "version": 3
   },
   "file_extension": ".py",
   "mimetype": "text/x-python",
   "name": "python",
   "nbconvert_exporter": "python",
   "pygments_lexer": "ipython3",
   "version": "3.11.5"
  }
 },
 "nbformat": 4,
 "nbformat_minor": 5
}
