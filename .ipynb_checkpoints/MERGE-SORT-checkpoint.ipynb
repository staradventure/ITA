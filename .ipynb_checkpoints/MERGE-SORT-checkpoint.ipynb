{
 "cells": [
  {
   "cell_type": "code",
   "execution_count": 31,
   "id": "53ae0f65-65cd-4f28-80f3-f4c76a7440ed",
   "metadata": {
    "tags": []
   },
   "outputs": [],
   "source": [
    "import math\n",
    "\n",
    "def MERGE(A,p,q,r):\n",
    "    n1=q-p+1\n",
    "    n2=r-q\n",
    "    L=[None]*(n1+1)\n",
    "    R=[None]*(n2+1)\n",
    "    for i in range(0,n1):\n",
    "        L[i]=A[p+i]\n",
    "    for j in range(0,n2):\n",
    "        R[j]=A[q+j+1]\n",
    "    L[n1]=\"oo\"\n",
    "    R[n2]=\"oo\"\n",
    "    i=0\n",
    "    j=0\n",
    "    for k in range(p,r+1):\n",
    "        if L[i]==\"oo\":\n",
    "            A[k]=R[j]\n",
    "            j+=1\n",
    "        elif R[j]==\"oo\":\n",
    "            A[k]=L[i]\n",
    "            i+=1\n",
    "        else:\n",
    "            if L[i]<=R[j]:\n",
    "                A[k]=L[i]\n",
    "                i+=1\n",
    "            else:\n",
    "                A[k]=R[j]\n",
    "                j+=1\n",
    "\n",
    "def MERGE_SORT(A,p,r):\n",
    "    if p<r:\n",
    "        q=math.floor((p+r)/2)\n",
    "        MERGE_SORT(A,p,q)\n",
    "        MERGE_SORT(A,q+1,r)\n",
    "        MERGE(A,p,q,r)"
   ]
  },
  {
   "cell_type": "code",
   "execution_count": 27,
   "id": "c9e44f3f-40d9-417c-b683-be8985986857",
   "metadata": {
    "tags": []
   },
   "outputs": [
    {
     "name": "stdout",
     "output_type": "stream",
     "text": [
      "[0, 0, 0, 0, 0, 0, 0, 0, 0, 1, 2, 2, 3, 4, 5, 6, 7, 0]\n"
     ]
    }
   ],
   "source": [
    "A=[0,0,0,0,0,0,0,0,0,2,4,5,7,1,2,3,6,0]\n",
    "MERGE(A,9,12,16)\n",
    "print(A)"
   ]
  },
  {
   "cell_type": "code",
   "execution_count": 34,
   "id": "88c227f3-901f-4f6a-bc7f-f9e5ecf61eed",
   "metadata": {
    "tags": []
   },
   "outputs": [
    {
     "name": "stdout",
     "output_type": "stream",
     "text": [
      "[1, 2, 3, 4, 5, 6, 7, 8, 9]\n"
     ]
    }
   ],
   "source": [
    "A=[9,8,7,6,5,4,3,2,1]\n",
    "MERGE_SORT(A,0,8)\n",
    "print(A)"
   ]
  },
  {
   "cell_type": "markdown",
   "id": "856eafd6-c352-47ca-9934-e164baf1ab73",
   "metadata": {},
   "source": [
    "- 和原伪代码不一样的地方：\n",
    "    - MERGE函数：\n",
    "        - 第8行到第11行：\n",
    "            - range左边界改为0，用来匹配列表下标。\n",
    "            - A的下标引用在原伪代码的基础上加了1。\n",
    "        - 第14行到第15行：\n",
    "            - 顺应列表下标，把i和j设成了0。\n",
    "        - 第16行：\n",
    "            - 顺应range函数习惯，右边界设为r+1。\n",
    "        - 第17行到第22行：\n",
    "            - 加入了对哨兵的处理。"
   ]
  },
  {
   "cell_type": "code",
   "execution_count": null,
   "id": "8d46ea5f-9c14-4fef-8c2b-4b85a91c9cb3",
   "metadata": {},
   "outputs": [],
   "source": []
  }
 ],
 "metadata": {
  "kernelspec": {
   "display_name": "Python 3 (ipykernel)",
   "language": "python",
   "name": "python3"
  },
  "language_info": {
   "codemirror_mode": {
    "name": "ipython",
    "version": 3
   },
   "file_extension": ".py",
   "mimetype": "text/x-python",
   "name": "python",
   "nbconvert_exporter": "python",
   "pygments_lexer": "ipython3",
   "version": "3.11.5"
  }
 },
 "nbformat": 4,
 "nbformat_minor": 5
}
