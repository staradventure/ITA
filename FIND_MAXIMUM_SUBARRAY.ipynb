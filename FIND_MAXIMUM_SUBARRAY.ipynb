{
 "cells": [
  {
   "cell_type": "code",
   "execution_count": 9,
   "id": "586800f6-0303-4539-8b42-b712d49efff6",
   "metadata": {
    "tags": []
   },
   "outputs": [],
   "source": [
    "def FIND_MAX_CROSSING_SUBARRAY(A,low,mid,high):\n",
    "    left_sum=-2147483648 \n",
    "    sum=0\n",
    "    for i in range(mid,low-1,-1):\n",
    "        sum=sum+A[i]\n",
    "        if sum>left_sum:\n",
    "            left_sum=sum\n",
    "            max_left=i\n",
    "    right_sum=-2147483648 \n",
    "    sum=0\n",
    "    for j in range(mid+1,high+1):\n",
    "        sum=sum+A[j]\n",
    "        if sum>right_sum:\n",
    "            right_sum=sum\n",
    "            max_right=j\n",
    "    return [max_left,max_right,left_sum+right_sum]"
   ]
  },
  {
   "cell_type": "code",
   "execution_count": 10,
   "id": "a5fd3ed0-4d50-4959-9253-a33837336fe4",
   "metadata": {
    "tags": []
   },
   "outputs": [
    {
     "name": "stdout",
     "output_type": "stream",
     "text": [
      "[0, 2, 0]\n"
     ]
    }
   ],
   "source": [
    "A=[1,-4,3,-4]\n",
    "print(FIND_MAX_CROSSING_SUBARRAY(A,0,1,3))"
   ]
  },
  {
   "cell_type": "code",
   "execution_count": 14,
   "id": "91ab05ff-1d9b-4947-a786-43d5dc1ee04f",
   "metadata": {
    "tags": []
   },
   "outputs": [],
   "source": [
    "import math\n",
    "def FIND_MAXIMUM_SUBARRAY(A,low,high):\n",
    "    if high==low:\n",
    "        return [low,high,A[low]]\n",
    "    else:\n",
    "        mid=math.floor((low+high)/2)\n",
    "        [left_low,left_high,left_sum]=FIND_MAXIMUM_SUBARRAY(A,low,mid)\n",
    "        [right_low,right_high,right_sum]=FIND_MAXIMUM_SUBARRAY(A,mid+1,high)\n",
    "        [cross_low,cross_high,cross_sum]=FIND_MAX_CROSSING_SUBARRAY(A,low,mid,high)\n",
    "        if left_sum>=right_sum and left_sum>=cross_sum:\n",
    "            return [left_low,left_high,left_sum]\n",
    "        elif right_sum>=left_sum and right_sum>=cross_sum:\n",
    "            return [right_low,right_high,right_sum]\n",
    "        else:\n",
    "            return [cross_low,cross_high,cross_sum]"
   ]
  },
  {
   "cell_type": "code",
   "execution_count": 15,
   "id": "8438610d-c709-41ba-bb67-f8478308c210",
   "metadata": {
    "tags": []
   },
   "outputs": [
    {
     "data": {
      "text/plain": [
       "[7, 10, 43]"
      ]
     },
     "execution_count": 15,
     "metadata": {},
     "output_type": "execute_result"
    }
   ],
   "source": [
    "A=[13,-3,-25,20,-3,-16,-23,18,20,-7,12,-5,-22,15,-4,7]\n",
    "FIND_MAXIMUM_SUBARRAY(A,0,15)"
   ]
  },
  {
   "cell_type": "markdown",
   "id": "f5781ac2-63bd-4c24-8657-2ab052fa02fd",
   "metadata": {},
   "source": [
    "- 和原伪代码中改动的地方：\n",
    "    - FIND_MAX_CROSSING_SUBARRAY函数：\n",
    "        - 第2行和第9行，采用Python在32位计算机上的int最小值来表示负无穷。\n",
    "        - 第4行和第11行，适应range函数，输入的边界值作了调整。"
   ]
  },
  {
   "cell_type": "code",
   "execution_count": null,
   "id": "9fd03bbb-5030-43ae-8857-cd15794a72b9",
   "metadata": {},
   "outputs": [],
   "source": []
  }
 ],
 "metadata": {
  "kernelspec": {
   "display_name": "Python 3 (ipykernel)",
   "language": "python",
   "name": "python3"
  },
  "language_info": {
   "codemirror_mode": {
    "name": "ipython",
    "version": 3
   },
   "file_extension": ".py",
   "mimetype": "text/x-python",
   "name": "python",
   "nbconvert_exporter": "python",
   "pygments_lexer": "ipython3",
   "version": "3.11.5"
  }
 },
 "nbformat": 4,
 "nbformat_minor": 5
}
